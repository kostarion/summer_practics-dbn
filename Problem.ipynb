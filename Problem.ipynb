{
 "cells": [
  {
   "cell_type": "code",
   "execution_count": 5,
   "metadata": {
    "collapsed": true
   },
   "outputs": [],
   "source": [
    "import pandas as pd\n",
    "import numpy as np\n",
    "import matplotlib.pyplot as plt\n",
    "import numpy as np\n",
    "%matplotlib inline"
   ]
  },
  {
   "cell_type": "markdown",
   "metadata": {},
   "source": [
    "В этой тетрадке собраны baselines и условие задачи."
   ]
  },
  {
   "cell_type": "markdown",
   "metadata": {},
   "source": [
    "#Примеры рядов"
   ]
  },
  {
   "cell_type": "markdown",
   "metadata": {},
   "source": [
    "Открываем файл с временными рядами"
   ]
  },
  {
   "cell_type": "code",
   "execution_count": 6,
   "metadata": {
    "collapsed": false,
    "scrolled": false
   },
   "outputs": [
    {
     "data": {
      "text/html": [
       "<div style=\"max-height:1000px;max-width:1500px;overflow:auto;\">\n",
       "<table border=\"1\" class=\"dataframe\">\n",
       "  <thead>\n",
       "    <tr style=\"text-align: right;\">\n",
       "      <th></th>\n",
       "      <th>Unnamed: 0</th>\n",
       "      <th>ID</th>\n",
       "      <th>DiskSize</th>\n",
       "      <th>Creation</th>\n",
       "      <th>First</th>\n",
       "      <th>StartTime</th>\n",
       "      <th>Now</th>\n",
       "      <th>1</th>\n",
       "      <th>2</th>\n",
       "      <th>3</th>\n",
       "      <th>...</th>\n",
       "      <th>95</th>\n",
       "      <th>96</th>\n",
       "      <th>97</th>\n",
       "      <th>98</th>\n",
       "      <th>99</th>\n",
       "      <th>100</th>\n",
       "      <th>101</th>\n",
       "      <th>102</th>\n",
       "      <th>103</th>\n",
       "      <th>104</th>\n",
       "    </tr>\n",
       "  </thead>\n",
       "  <tbody>\n",
       "    <tr>\n",
       "      <th>0</th>\n",
       "      <td> 0</td>\n",
       "      <td> /LHCb/Collision10/Beam3500GeV-VeloClosed-MagDo...</td>\n",
       "      <td> 0.635799</td>\n",
       "      <td> 104591</td>\n",
       "      <td> 104670</td>\n",
       "      <td> 104660</td>\n",
       "      <td> 104764</td>\n",
       "      <td> 0</td>\n",
       "      <td> 0</td>\n",
       "      <td> 0</td>\n",
       "      <td>...</td>\n",
       "      <td> 0</td>\n",
       "      <td> 0</td>\n",
       "      <td> 0</td>\n",
       "      <td> 0</td>\n",
       "      <td> 0</td>\n",
       "      <td> 0</td>\n",
       "      <td> 0</td>\n",
       "      <td> 0</td>\n",
       "      <td> 0</td>\n",
       "      <td> 134</td>\n",
       "    </tr>\n",
       "    <tr>\n",
       "      <th>1</th>\n",
       "      <td> 1</td>\n",
       "      <td> /LHCb/Collision10/Beam3500GeV-VeloClosed-MagDo...</td>\n",
       "      <td> 2.819260</td>\n",
       "      <td> 104607</td>\n",
       "      <td> 104676</td>\n",
       "      <td> 104660</td>\n",
       "      <td> 104764</td>\n",
       "      <td> 0</td>\n",
       "      <td> 0</td>\n",
       "      <td> 0</td>\n",
       "      <td>...</td>\n",
       "      <td> 0</td>\n",
       "      <td> 0</td>\n",
       "      <td> 0</td>\n",
       "      <td> 0</td>\n",
       "      <td> 0</td>\n",
       "      <td> 0</td>\n",
       "      <td> 0</td>\n",
       "      <td> 0</td>\n",
       "      <td> 0</td>\n",
       "      <td>   0</td>\n",
       "    </tr>\n",
       "    <tr>\n",
       "      <th>2</th>\n",
       "      <td> 2</td>\n",
       "      <td> /LHCb/Collision10/Beam3500GeV-VeloClosed-MagDo...</td>\n",
       "      <td> 1.370105</td>\n",
       "      <td> 104607</td>\n",
       "      <td> 104666</td>\n",
       "      <td> 104660</td>\n",
       "      <td> 104764</td>\n",
       "      <td> 0</td>\n",
       "      <td> 0</td>\n",
       "      <td> 0</td>\n",
       "      <td>...</td>\n",
       "      <td> 0</td>\n",
       "      <td> 0</td>\n",
       "      <td> 0</td>\n",
       "      <td> 0</td>\n",
       "      <td> 0</td>\n",
       "      <td> 0</td>\n",
       "      <td> 0</td>\n",
       "      <td> 0</td>\n",
       "      <td> 0</td>\n",
       "      <td>   0</td>\n",
       "    </tr>\n",
       "    <tr>\n",
       "      <th>3</th>\n",
       "      <td> 3</td>\n",
       "      <td> /LHCb/Collision10/Beam3500GeV-VeloClosed-MagDo...</td>\n",
       "      <td> 3.490704</td>\n",
       "      <td> 104607</td>\n",
       "      <td> 104740</td>\n",
       "      <td> 104660</td>\n",
       "      <td> 104764</td>\n",
       "      <td> 0</td>\n",
       "      <td> 0</td>\n",
       "      <td> 0</td>\n",
       "      <td>...</td>\n",
       "      <td> 0</td>\n",
       "      <td> 0</td>\n",
       "      <td> 0</td>\n",
       "      <td> 0</td>\n",
       "      <td> 0</td>\n",
       "      <td> 0</td>\n",
       "      <td> 0</td>\n",
       "      <td> 0</td>\n",
       "      <td> 0</td>\n",
       "      <td>   0</td>\n",
       "    </tr>\n",
       "    <tr>\n",
       "      <th>4</th>\n",
       "      <td> 4</td>\n",
       "      <td> /LHCb/Collision10/Beam3500GeV-VeloClosed-MagDo...</td>\n",
       "      <td> 0.289290</td>\n",
       "      <td> 104607</td>\n",
       "      <td> 104685</td>\n",
       "      <td> 104660</td>\n",
       "      <td> 104764</td>\n",
       "      <td> 0</td>\n",
       "      <td> 0</td>\n",
       "      <td> 0</td>\n",
       "      <td>...</td>\n",
       "      <td> 0</td>\n",
       "      <td> 0</td>\n",
       "      <td> 0</td>\n",
       "      <td> 0</td>\n",
       "      <td> 0</td>\n",
       "      <td> 0</td>\n",
       "      <td> 0</td>\n",
       "      <td> 0</td>\n",
       "      <td> 0</td>\n",
       "      <td>   0</td>\n",
       "    </tr>\n",
       "  </tbody>\n",
       "</table>\n",
       "<p>5 rows × 111 columns</p>\n",
       "</div>"
      ],
      "text/plain": [
       "   Unnamed: 0                                                 ID  DiskSize  \\\n",
       "0           0  /LHCb/Collision10/Beam3500GeV-VeloClosed-MagDo...  0.635799   \n",
       "1           1  /LHCb/Collision10/Beam3500GeV-VeloClosed-MagDo...  2.819260   \n",
       "2           2  /LHCb/Collision10/Beam3500GeV-VeloClosed-MagDo...  1.370105   \n",
       "3           3  /LHCb/Collision10/Beam3500GeV-VeloClosed-MagDo...  3.490704   \n",
       "4           4  /LHCb/Collision10/Beam3500GeV-VeloClosed-MagDo...  0.289290   \n",
       "\n",
       "   Creation   First  StartTime     Now  1  2  3 ...   95  96  97  98  99  100  \\\n",
       "0    104591  104670     104660  104764  0  0  0 ...    0   0   0   0   0    0   \n",
       "1    104607  104676     104660  104764  0  0  0 ...    0   0   0   0   0    0   \n",
       "2    104607  104666     104660  104764  0  0  0 ...    0   0   0   0   0    0   \n",
       "3    104607  104740     104660  104764  0  0  0 ...    0   0   0   0   0    0   \n",
       "4    104607  104685     104660  104764  0  0  0 ...    0   0   0   0   0    0   \n",
       "\n",
       "   101  102  103  104  \n",
       "0    0    0    0  134  \n",
       "1    0    0    0    0  \n",
       "2    0    0    0    0  \n",
       "3    0    0    0    0  \n",
       "4    0    0    0    0  \n",
       "\n",
       "[5 rows x 111 columns]"
      ]
     },
     "execution_count": 6,
     "metadata": {},
     "output_type": "execute_result"
    }
   ],
   "source": [
    "data_full_1_104 = pd.read_csv('data_full_1_104.csv')\n",
    "data_full_1_104.irow(range(0,5))"
   ]
  },
  {
   "cell_type": "markdown",
   "metadata": {},
   "source": [
    "Рисуем несколько рядов"
   ]
  },
  {
   "cell_type": "code",
   "execution_count": 28,
   "metadata": {
    "collapsed": false
   },
   "outputs": [
    {
     "data": {
      "image/png": "[encoded data removed]",
      "text/plain": [
       "<matplotlib.figure.Figure at 0x128fb650>"
      ]
     },
     "metadata": {},
     "output_type": "display_data"
    }
   ],
   "source": [
    "periods = [str(i) for i in range(1,105)]\n",
    "\n",
    "plt.figure(figsize=(15,30))\n",
    "plt.subplots_adjust( hspace=.5)\n",
    "for i in range(48,68):#менять тут\n",
    "    one_time_serie = data_full_1_104[periods].irow(i).values\n",
    "    plt.subplot(10,2,i-47)#и тут\n",
    "    plt.bar(range(1,105), one_time_serie, width=1, bottom=0)\n",
    "    plt.xlim(1,105)\n",
    "    plt.xlabel('Weeks')\n",
    "    plt.ylabel('Nb of usages')\n",
    "plt.show()"
   ]
  },
  {
   "cell_type": "markdown",
   "metadata": {},
   "source": [
    "#Baselines"
   ]
  },
  {
   "cell_type": "code",
   "execution_count": 1,
   "metadata": {
    "collapsed": true
   },
   "outputs": [],
   "source": [
    "%matplotlib inline\n",
    "import pandas as pd\n",
    "import numpy as np\n",
    "import matplotlib.pyplot as plt"
   ]
  },
  {
   "cell_type": "markdown",
   "metadata": {},
   "source": [
    "Открываем первй файл задачи"
   ]
  },
  {
   "cell_type": "code",
   "execution_count": 9,
   "metadata": {
    "collapsed": false,
    "scrolled": true
   },
   "outputs": [
    {
     "data": {
      "text/html": [
       "<div style=\"max-height:1000px;max-width:1500px;overflow:auto;\">\n",
       "<table border=\"1\" class=\"dataframe\">\n",
       "  <thead>\n",
       "    <tr style=\"text-align: right;\">\n",
       "      <th></th>\n",
       "      <th>Unnamed: 0</th>\n",
       "      <th>ID</th>\n",
       "      <th>1</th>\n",
       "      <th>2</th>\n",
       "      <th>3</th>\n",
       "      <th>4</th>\n",
       "      <th>5</th>\n",
       "      <th>6</th>\n",
       "      <th>7</th>\n",
       "      <th>8</th>\n",
       "      <th>...</th>\n",
       "      <th>44</th>\n",
       "      <th>45</th>\n",
       "      <th>46</th>\n",
       "      <th>47</th>\n",
       "      <th>48</th>\n",
       "      <th>49</th>\n",
       "      <th>50</th>\n",
       "      <th>51</th>\n",
       "      <th>52</th>\n",
       "      <th>label</th>\n",
       "    </tr>\n",
       "  </thead>\n",
       "  <tbody>\n",
       "    <tr>\n",
       "      <th>0</th>\n",
       "      <td> 0</td>\n",
       "      <td> /LHCb/Collision10/Beam3500GeV-VeloClosed-MagDo...</td>\n",
       "      <td> 0</td>\n",
       "      <td> 0</td>\n",
       "      <td> 0</td>\n",
       "      <td> 0</td>\n",
       "      <td> 0</td>\n",
       "      <td> 0</td>\n",
       "      <td> 0</td>\n",
       "      <td> 0</td>\n",
       "      <td>...</td>\n",
       "      <td> 0</td>\n",
       "      <td> 376</td>\n",
       "      <td> 0</td>\n",
       "      <td> 0</td>\n",
       "      <td> 0</td>\n",
       "      <td> 198</td>\n",
       "      <td> 134</td>\n",
       "      <td> 0</td>\n",
       "      <td>  67</td>\n",
       "      <td> 1</td>\n",
       "    </tr>\n",
       "    <tr>\n",
       "      <th>1</th>\n",
       "      <td> 1</td>\n",
       "      <td> /LHCb/Collision10/Beam3500GeV-VeloClosed-MagDo...</td>\n",
       "      <td> 0</td>\n",
       "      <td> 0</td>\n",
       "      <td> 0</td>\n",
       "      <td> 0</td>\n",
       "      <td> 0</td>\n",
       "      <td> 0</td>\n",
       "      <td> 0</td>\n",
       "      <td> 0</td>\n",
       "      <td>...</td>\n",
       "      <td> 0</td>\n",
       "      <td>   0</td>\n",
       "      <td> 0</td>\n",
       "      <td> 0</td>\n",
       "      <td> 0</td>\n",
       "      <td>   0</td>\n",
       "      <td>   0</td>\n",
       "      <td> 0</td>\n",
       "      <td>   0</td>\n",
       "      <td> 0</td>\n",
       "    </tr>\n",
       "    <tr>\n",
       "      <th>2</th>\n",
       "      <td> 2</td>\n",
       "      <td> /LHCb/Collision10/Beam3500GeV-VeloClosed-MagDo...</td>\n",
       "      <td> 0</td>\n",
       "      <td> 0</td>\n",
       "      <td> 0</td>\n",
       "      <td> 0</td>\n",
       "      <td> 0</td>\n",
       "      <td> 0</td>\n",
       "      <td> 0</td>\n",
       "      <td> 0</td>\n",
       "      <td>...</td>\n",
       "      <td> 0</td>\n",
       "      <td>   0</td>\n",
       "      <td> 0</td>\n",
       "      <td> 0</td>\n",
       "      <td> 0</td>\n",
       "      <td>   0</td>\n",
       "      <td>   0</td>\n",
       "      <td> 0</td>\n",
       "      <td>   0</td>\n",
       "      <td> 0</td>\n",
       "    </tr>\n",
       "    <tr>\n",
       "      <th>3</th>\n",
       "      <td> 3</td>\n",
       "      <td> /LHCb/Collision10/Beam3500GeV-VeloClosed-MagUp...</td>\n",
       "      <td> 0</td>\n",
       "      <td> 0</td>\n",
       "      <td> 0</td>\n",
       "      <td> 0</td>\n",
       "      <td> 0</td>\n",
       "      <td> 0</td>\n",
       "      <td> 0</td>\n",
       "      <td> 0</td>\n",
       "      <td>...</td>\n",
       "      <td> 0</td>\n",
       "      <td>   0</td>\n",
       "      <td> 0</td>\n",
       "      <td> 0</td>\n",
       "      <td> 0</td>\n",
       "      <td> 266</td>\n",
       "      <td> 260</td>\n",
       "      <td> 0</td>\n",
       "      <td> 130</td>\n",
       "      <td> 1</td>\n",
       "    </tr>\n",
       "    <tr>\n",
       "      <th>4</th>\n",
       "      <td> 4</td>\n",
       "      <td> /LHCb/Collision10/Beam3500GeV-VeloClosed-MagUp...</td>\n",
       "      <td> 0</td>\n",
       "      <td> 0</td>\n",
       "      <td> 0</td>\n",
       "      <td> 0</td>\n",
       "      <td> 0</td>\n",
       "      <td> 0</td>\n",
       "      <td> 0</td>\n",
       "      <td> 0</td>\n",
       "      <td>...</td>\n",
       "      <td> 0</td>\n",
       "      <td>   0</td>\n",
       "      <td> 0</td>\n",
       "      <td> 0</td>\n",
       "      <td> 0</td>\n",
       "      <td>   0</td>\n",
       "      <td>   0</td>\n",
       "      <td> 0</td>\n",
       "      <td>   0</td>\n",
       "      <td> 0</td>\n",
       "    </tr>\n",
       "    <tr>\n",
       "      <th>5</th>\n",
       "      <td> 5</td>\n",
       "      <td> /LHCb/Collision10/Beam3500GeV-VeloClosed-MagUp...</td>\n",
       "      <td> 0</td>\n",
       "      <td> 0</td>\n",
       "      <td> 0</td>\n",
       "      <td> 0</td>\n",
       "      <td> 0</td>\n",
       "      <td> 0</td>\n",
       "      <td> 0</td>\n",
       "      <td> 0</td>\n",
       "      <td>...</td>\n",
       "      <td> 0</td>\n",
       "      <td>   0</td>\n",
       "      <td> 0</td>\n",
       "      <td> 0</td>\n",
       "      <td> 0</td>\n",
       "      <td>   0</td>\n",
       "      <td>   0</td>\n",
       "      <td> 0</td>\n",
       "      <td>   0</td>\n",
       "      <td> 0</td>\n",
       "    </tr>\n",
       "  </tbody>\n",
       "</table>\n",
       "<p>6 rows × 55 columns</p>\n",
       "</div>"
      ],
      "text/plain": [
       "   Unnamed: 0                                                 ID  1  2  3  4  \\\n",
       "0           0  /LHCb/Collision10/Beam3500GeV-VeloClosed-MagDo...  0  0  0  0   \n",
       "1           1  /LHCb/Collision10/Beam3500GeV-VeloClosed-MagDo...  0  0  0  0   \n",
       "2           2  /LHCb/Collision10/Beam3500GeV-VeloClosed-MagDo...  0  0  0  0   \n",
       "3           3  /LHCb/Collision10/Beam3500GeV-VeloClosed-MagUp...  0  0  0  0   \n",
       "4           4  /LHCb/Collision10/Beam3500GeV-VeloClosed-MagUp...  0  0  0  0   \n",
       "5           5  /LHCb/Collision10/Beam3500GeV-VeloClosed-MagUp...  0  0  0  0   \n",
       "\n",
       "   5  6  7  8  ...    44   45  46  47  48   49   50  51   52  label  \n",
       "0  0  0  0  0  ...     0  376   0   0   0  198  134   0   67      1  \n",
       "1  0  0  0  0  ...     0    0   0   0   0    0    0   0    0      0  \n",
       "2  0  0  0  0  ...     0    0   0   0   0    0    0   0    0      0  \n",
       "3  0  0  0  0  ...     0    0   0   0   0  266  260   0  130      1  \n",
       "4  0  0  0  0  ...     0    0   0   0   0    0    0   0    0      0  \n",
       "5  0  0  0  0  ...     0    0   0   0   0    0    0   0    0      0  \n",
       "\n",
       "[6 rows x 55 columns]"
      ]
     },
     "execution_count": 9,
     "metadata": {},
     "output_type": "execute_result"
    }
   ],
   "source": [
    "data1_53 = pd.read_csv('data1_53.csv')\n",
    "data1_53.irow(range(0,6))"
   ]
  },
  {
   "cell_type": "markdown",
   "metadata": {},
   "source": [
    "Среднее число использований файлов по неделям"
   ]
  },
  {
   "cell_type": "code",
   "execution_count": 84,
   "metadata": {
    "collapsed": false,
    "scrolled": true
   },
   "outputs": [
    {
     "data": {
      "image/png": "[encoded data removed]",
      "text/plain": [
       "<matplotlib.figure.Figure at 0xbeb1530>"
      ]
     },
     "metadata": {},
     "output_type": "display_data"
    }
   ],
   "source": [
    "plt.bar(range(1, 105), (data_full_1_104.ix[:,'1':'104']).mean(axis=0));\n",
    "plt.show;"
   ]
  },
  {
   "cell_type": "markdown",
   "metadata": {},
   "source": [
    "Число использованных файлов всего по неделям"
   ]
  },
  {
   "cell_type": "code",
   "execution_count": 51,
   "metadata": {
    "collapsed": false
   },
   "outputs": [
    {
     "data": {
      "image/png": "[encoded data removed]",
      "text/plain": [
       "<matplotlib.figure.Figure at 0xcb5a2b0>"
      ]
     },
     "metadata": {},
     "output_type": "display_data"
    }
   ],
   "source": [
    "plt.bar(range(1, 105), [len(data_full_1_104[data_full_1_104[str(x)]>0]) for x in range(1, 105)]);"
   ]
  },
  {
   "cell_type": "markdown",
   "metadata": {},
   "source": [
    "Делим данные на обучение/тестирование"
   ]
  },
  {
   "cell_type": "code",
   "execution_count": 10,
   "metadata": {
    "collapsed": false
   },
   "outputs": [],
   "source": [
    "from sklearn.cross_validation import train_test_split\n",
    "ind_train, ind_test, _, _ = train_test_split(data1_53.index, data1_53.index, test_size=0.33, random_state=42)"
   ]
  },
  {
   "cell_type": "markdown",
   "metadata": {},
   "source": [
    "Подготовка данных для классификатора"
   ]
  },
  {
   "cell_type": "code",
   "execution_count": 16,
   "metadata": {
    "collapsed": false
   },
   "outputs": [],
   "source": [
    "X_train = data1_53[[str(i) for i in range(1,53)]].values[ind_train,:]\n",
    "X_test = data1_53[[str(i) for i in range(1,53)]].values[ind_test,:]\n",
    "\n",
    "y_train = data1_53['label'].values[ind_train]\n",
    "y_test = data1_53['label'].values[ind_test]"
   ]
  },
  {
   "cell_type": "markdown",
   "metadata": {},
   "source": [
    "Обучаем классификатор"
   ]
  },
  {
   "cell_type": "code",
   "execution_count": 123,
   "metadata": {
    "collapsed": false
   },
   "outputs": [
    {
     "data": {
      "text/plain": [
       "GradientBoostingClassifier(init=None, learning_rate=0.01, loss='deviance',\n",
       "              max_depth=6, max_features=None, max_leaf_nodes=None,\n",
       "              min_samples_leaf=1, min_samples_split=2, n_estimators=2500,\n",
       "              random_state=None, subsample=0.8, verbose=0,\n",
       "              warm_start=False)"
      ]
     },
     "execution_count": 123,
     "metadata": {},
     "output_type": "execute_result"
    }
   ],
   "source": [
    "from sklearn.ensemble import GradientBoostingClassifier\n",
    "\n",
    "gbc = GradientBoostingClassifier(learning_rate=0.01, n_estimators=2500, max_depth=6, subsample=0.8)\n",
    "gbc.fit(X_train, y_train)"
   ]
  },
  {
   "cell_type": "code",
   "execution_count": 124,
   "metadata": {
    "collapsed": false
   },
   "outputs": [
    {
     "data": {
      "text/plain": [
       "0.84008528784648184"
      ]
     },
     "execution_count": 124,
     "metadata": {},
     "output_type": "execute_result"
    }
   ],
   "source": [
    "gbc.score(X_test, y_test)"
   ]
  },
  {
   "cell_type": "markdown",
   "metadata": {},
   "source": [
    "Строим ROC кривые для обучения и теста"
   ]
  },
  {
   "cell_type": "code",
   "execution_count": 32,
   "metadata": {
    "collapsed": false
   },
   "outputs": [
    {
     "data": {
      "image/png": "[encoded data removed]",
      "text/plain": [
       "<matplotlib.figure.Figure at 0x1158d2950>"
      ]
     },
     "metadata": {},
     "output_type": "display_data"
    }
   ],
   "source": [
    "from sklearn.metrics import roc_curve, auc\n",
    "\n",
    "fpr_train, tpr_train, _ = roc_curve(y_train, gbc.predict_proba(X_train)[:,1])\n",
    "roc_auc_train = auc(fpr_train, tpr_train)\n",
    "plt.plot(fpr_train, tpr_train, label='train (%.2f)' % roc_auc_train)\n",
    "\n",
    "fpr_test, tpr_test, _ = roc_curve(y_test, gbc.predict_proba(X_test)[:,1])\n",
    "roc_auc_test = auc(fpr_test, tpr_test)\n",
    "plt.plot(fpr_test, tpr_test, label='test (%.2f)' % roc_auc_test)\n",
    "\n",
    "plt.title('ROC')\n",
    "plt.xlabel('FPR')\n",
    "plt.ylabel('TPR')\n",
    "plt.legend(loc='best')\n",
    "plt.show()"
   ]
  },
  {
   "cell_type": "markdown",
   "metadata": {},
   "source": [
    "Открываем второй файл данных"
   ]
  },
  {
   "cell_type": "code",
   "execution_count": 12,
   "metadata": {
    "collapsed": false
   },
   "outputs": [
    {
     "data": {
      "text/html": [
       "<div style=\"max-height:1000px;max-width:1500px;overflow:auto;\">\n",
       "<table border=\"1\" class=\"dataframe\">\n",
       "  <thead>\n",
       "    <tr style=\"text-align: right;\">\n",
       "      <th></th>\n",
       "      <th>Unnamed: 0</th>\n",
       "      <th>ID</th>\n",
       "      <th>2</th>\n",
       "      <th>3</th>\n",
       "      <th>4</th>\n",
       "      <th>5</th>\n",
       "      <th>6</th>\n",
       "      <th>7</th>\n",
       "      <th>8</th>\n",
       "      <th>9</th>\n",
       "      <th>...</th>\n",
       "      <th>45</th>\n",
       "      <th>46</th>\n",
       "      <th>47</th>\n",
       "      <th>48</th>\n",
       "      <th>49</th>\n",
       "      <th>50</th>\n",
       "      <th>51</th>\n",
       "      <th>52</th>\n",
       "      <th>53</th>\n",
       "      <th>label</th>\n",
       "    </tr>\n",
       "  </thead>\n",
       "  <tbody>\n",
       "    <tr>\n",
       "      <th>0</th>\n",
       "      <td> 0</td>\n",
       "      <td> /LHCb/Collision10/Beam3500GeV-VeloClosed-MagDo...</td>\n",
       "      <td> 0</td>\n",
       "      <td> 0</td>\n",
       "      <td> 0</td>\n",
       "      <td> 0</td>\n",
       "      <td> 0</td>\n",
       "      <td> 0</td>\n",
       "      <td> 0</td>\n",
       "      <td> 0</td>\n",
       "      <td>...</td>\n",
       "      <td> 376</td>\n",
       "      <td> 0</td>\n",
       "      <td> 0</td>\n",
       "      <td> 0</td>\n",
       "      <td> 198</td>\n",
       "      <td> 134</td>\n",
       "      <td> 0</td>\n",
       "      <td> 67</td>\n",
       "      <td> 0</td>\n",
       "      <td> 1</td>\n",
       "    </tr>\n",
       "    <tr>\n",
       "      <th>1</th>\n",
       "      <td> 1</td>\n",
       "      <td> /LHCb/Collision10/Beam3500GeV-VeloClosed-MagDo...</td>\n",
       "      <td> 0</td>\n",
       "      <td> 0</td>\n",
       "      <td> 0</td>\n",
       "      <td> 0</td>\n",
       "      <td> 0</td>\n",
       "      <td> 0</td>\n",
       "      <td> 0</td>\n",
       "      <td> 0</td>\n",
       "      <td>...</td>\n",
       "      <td>   0</td>\n",
       "      <td> 0</td>\n",
       "      <td> 0</td>\n",
       "      <td> 0</td>\n",
       "      <td>   0</td>\n",
       "      <td>   0</td>\n",
       "      <td> 0</td>\n",
       "      <td>  0</td>\n",
       "      <td> 0</td>\n",
       "      <td> 0</td>\n",
       "    </tr>\n",
       "    <tr>\n",
       "      <th>2</th>\n",
       "      <td> 2</td>\n",
       "      <td> /LHCb/Collision10/Beam3500GeV-VeloClosed-MagDo...</td>\n",
       "      <td> 0</td>\n",
       "      <td> 0</td>\n",
       "      <td> 0</td>\n",
       "      <td> 0</td>\n",
       "      <td> 0</td>\n",
       "      <td> 0</td>\n",
       "      <td> 0</td>\n",
       "      <td> 0</td>\n",
       "      <td>...</td>\n",
       "      <td>   0</td>\n",
       "      <td> 0</td>\n",
       "      <td> 0</td>\n",
       "      <td> 0</td>\n",
       "      <td>   0</td>\n",
       "      <td>   0</td>\n",
       "      <td> 0</td>\n",
       "      <td>  0</td>\n",
       "      <td> 0</td>\n",
       "      <td> 0</td>\n",
       "    </tr>\n",
       "  </tbody>\n",
       "</table>\n",
       "<p>3 rows × 55 columns</p>\n",
       "</div>"
      ],
      "text/plain": [
       "   Unnamed: 0                                                 ID  2  3  4  5  \\\n",
       "0           0  /LHCb/Collision10/Beam3500GeV-VeloClosed-MagDo...  0  0  0  0   \n",
       "1           1  /LHCb/Collision10/Beam3500GeV-VeloClosed-MagDo...  0  0  0  0   \n",
       "2           2  /LHCb/Collision10/Beam3500GeV-VeloClosed-MagDo...  0  0  0  0   \n",
       "\n",
       "   6  7  8  9  ...     45  46  47  48   49   50  51  52  53  label  \n",
       "0  0  0  0  0  ...    376   0   0   0  198  134   0  67   0      1  \n",
       "1  0  0  0  0  ...      0   0   0   0    0    0   0   0   0      0  \n",
       "2  0  0  0  0  ...      0   0   0   0    0    0   0   0   0      0  \n",
       "\n",
       "[3 rows x 55 columns]"
      ]
     },
     "execution_count": 12,
     "metadata": {},
     "output_type": "execute_result"
    }
   ],
   "source": [
    "data2_54 = pd.read_csv('data2_54.csv')\n",
    "data2_54.irow(range(0,3))"
   ]
  },
  {
   "cell_type": "markdown",
   "metadata": {},
   "source": [
    "Подготовка данных"
   ]
  },
  {
   "cell_type": "code",
   "execution_count": 13,
   "metadata": {
    "collapsed": true
   },
   "outputs": [],
   "source": [
    "X_train2 = data2_54[[str(i) for i in range(2,54)]].values[ind_train,:]\n",
    "X_test2 = data2_54[[str(i) for i in range(2,54)]].values[ind_test,:]\n",
    "\n",
    "y_train2 = data2_54['label'].values[ind_train]\n",
    "y_test2 = data2_54['label'].values[ind_test]"
   ]
  },
  {
   "cell_type": "code",
   "execution_count": 227,
   "metadata": {
    "collapsed": false
   },
   "outputs": [],
   "source": [
    "def draw_roc(X_test, y_test, X_test2, y_test2, label1, label2, clf) :\n",
    "    fpr_test, tpr_test, _ = roc_curve(y_test, clf.predict_proba(X_test)[:,1])\n",
    "    roc_auc_test = auc(fpr_test, tpr_test)\n",
    "    plt.plot(fpr_test, tpr_test, label=label1+' (%.2f)' % roc_auc_test)\n",
    "\n",
    "    fpr_test2, tpr_test2, _ = roc_curve(y_test2, clf.predict_proba(X_test2)[:,1])\n",
    "    roc_auc_test2 = auc(fpr_test2, tpr_test2)\n",
    "    plt.plot(fpr_test2, tpr_test2, label=label2+' (%.2f)' % roc_auc_test2)\n",
    "\n",
    "    plt.xlabel('FPR')\n",
    "    plt.ylabel('TPR')\n",
    "    plt.legend(loc='best')\n",
    "    plt.show()"
   ]
  },
  {
   "cell_type": "markdown",
   "metadata": {},
   "source": [
    "Используем обученный классификатор для прогноза и строим ROC кривые"
   ]
  },
  {
   "cell_type": "code",
   "execution_count": 228,
   "metadata": {
    "collapsed": false,
    "scrolled": false
   },
   "outputs": [
    {
     "data": {
      "image/png": "[encoded data removed]",
      "text/plain": [
       "<matplotlib.figure.Figure at 0x15259910>"
      ]
     },
     "metadata": {},
     "output_type": "display_data"
    }
   ],
   "source": [
    "from sklearn.metrics import roc_curve, auc\n",
    "\n",
    "draw_roc(X_train2, y_train2, X_test, y_test, 'train2', 'test', gbc)"
   ]
  },
  {
   "cell_type": "markdown",
   "metadata": {},
   "source": [
    "ROC кривые на двух тестовых выборках и есть baselines задачи."
   ]
  },
  {
   "cell_type": "code",
   "execution_count": 229,
   "metadata": {
    "collapsed": false
   },
   "outputs": [
    {
     "data": {
      "image/png": "[encoded data removed]",
      "text/plain": [
       "<matplotlib.figure.Figure at 0x1574c170>"
      ]
     },
     "metadata": {},
     "output_type": "display_data"
    }
   ],
   "source": [
    "draw_roc(X_test, y_test, X_test2, y_test2, 'test', 'test2', gbc)"
   ]
  },
  {
   "cell_type": "markdown",
   "metadata": {},
   "source": [
    "#Задача"
   ]
  },
  {
   "cell_type": "markdown",
   "metadata": {},
   "source": [
    "1. Поставить ipython\n",
    "2. Почитать про Restricted Boltzmann Machines (RBM) и Deep Belief Networks (DBN).\n",
    "3. Выбрать и разобрать библиотеку с DBN (scikit-learn, nolearn, theanet(!?), pybrain(?)).\n",
    "4. Используя DBN увеличить ROC AUC для test2.\n",
    "5. Используя DBN увеличить ROC AUC для test и test2."
   ]
  },
  {
   "cell_type": "code",
   "execution_count": 2,
   "metadata": {
    "collapsed": false
   },
   "outputs": [],
   "source": [
    "from sklearn.metrics import accuracy_score"
   ]
  },
  {
   "cell_type": "code",
   "execution_count": 14,
   "metadata": {
    "collapsed": false
   },
   "outputs": [],
   "source": [
    "from nolearn.dbn import DBN"
   ]
  },
  {
   "cell_type": "code",
   "execution_count": 72,
   "metadata": {
    "collapsed": true
   },
   "outputs": [],
   "source": [
    "results = []\n",
    "for hiddens in range(2, 72, 5):\n",
    "    dbn = DBN([X_train.shape[1], hiddens, 2], learn_rates = 0.3,\n",
    "    learn_rate_decays = 0.9, epochs = 10)\n",
    "    dbn.fit(X_train, y_train)\n",
    "    results.append([hiddens, dbn.score(X_test, y_test)])"
   ]
  },
  {
   "cell_type": "code",
   "execution_count": 73,
   "metadata": {
    "collapsed": true
   },
   "outputs": [
    {
     "data": {
      "text/plain": [
       "[[2, 0.5788912579957356],\n",
       " [7, 0.5788912579957356],\n",
       " [12, 0.5831556503198294],\n",
       " [17, 0.5788912579957356],\n",
       " [22, 0.5788912579957356],\n",
       " [27, 0.5831556503198294],\n",
       " [32, 0.5810234541577826],\n",
       " [37, 0.5852878464818763],\n",
       " [42, 0.5788912579957356],\n",
       " [47, 0.5831556503198294],\n",
       " [52, 0.5810234541577826],\n",
       " [57, 0.584221748400853],\n",
       " [62, 0.5810234541577826],\n",
       " [67, 0.5788912579957356]]"
      ]
     },
     "execution_count": 73,
     "metadata": {},
     "output_type": "execute_result"
    }
   ],
   "source": [
    "results"
   ]
  },
  {
   "cell_type": "code",
   "execution_count": 116,
   "metadata": {
    "collapsed": false
   },
   "outputs": [],
   "source": [
    "dbn = DBN([X_train.shape[1], 35, 2], learn_rates = 0.3,\n",
    "    learn_rate_decays = 0.9, epochs = 15)\n",
    "dbn.fit(X_train2, y_train2)"
   ]
  },
  {
   "cell_type": "code",
   "execution_count": 121,
   "metadata": {
    "collapsed": false
   },
   "outputs": [
    {
     "data": {
      "text/plain": [
       "(1902, 2)"
      ]
     },
     "execution_count": 121,
     "metadata": {},
     "output_type": "execute_result"
    }
   ],
   "source": [
    "dbn.predict_proba(X_train2).shape"
   ]
  },
  {
   "cell_type": "code",
   "execution_count": 101,
   "metadata": {
    "collapsed": false,
    "scrolled": true
   },
   "outputs": [
    {
     "name": "stdout",
     "output_type": "stream",
     "text": [
      "             precision    recall  f1-score   support\n",
      "\n",
      "        0.0       0.42      1.00      0.59       395\n",
      "        1.0       0.00      0.00      0.00       543\n",
      "\n",
      "avg / total       0.18      0.42      0.25       938\n",
      "\n"
     ]
    }
   ],
   "source": [
    "from sklearn.metrics import classification_report\n",
    "preds = dbn.predict(X_test)\n",
    "print classification_report(y_test, preds)"
   ]
  },
  {
   "cell_type": "code",
   "execution_count": 76,
   "metadata": {
    "collapsed": false,
    "scrolled": true
   },
   "outputs": [
    {
     "name": "stdout",
     "output_type": "stream",
     "text": [
      "             precision    recall  f1-score   support\n",
      "\n",
      "        0.0       0.50      0.00      0.00       418\n",
      "        1.0       0.55      1.00      0.71       520\n",
      "\n",
      "avg / total       0.53      0.55      0.40       938\n",
      "\n"
     ]
    }
   ],
   "source": [
    "preds2 = dbn.predict(X_test2)\n",
    "print classification_report(y_test2, preds)"
   ]
  },
  {
   "cell_type": "code",
   "execution_count": null,
   "metadata": {
    "collapsed": true
   },
   "outputs": [],
   "source": []
  },
  {
   "cell_type": "code",
   "execution_count": 230,
   "metadata": {
    "collapsed": false
   },
   "outputs": [
    {
     "data": {
      "image/png": "[encoded data removed]",
      "text/plain": [
       "<matplotlib.figure.Figure at 0x13f86bb0>"
      ]
     },
     "metadata": {},
     "output_type": "display_data"
    }
   ],
   "source": [
    "draw_roc(X_test, y_test, X_test2, y_test2, 'test1', 'test2', dbn)"
   ]
  },
  {
   "cell_type": "code",
   "execution_count": null,
   "metadata": {
    "collapsed": true
   },
   "outputs": [],
   "source": []
  },
  {
   "cell_type": "code",
   "execution_count": null,
   "metadata": {
    "collapsed": true
   },
   "outputs": [],
   "source": []
  },
  {
   "cell_type": "code",
   "execution_count": 129,
   "metadata": {
    "collapsed": true
   },
   "outputs": [],
   "source": [
    "from sklearn import cross_validation\n",
    "from sklearn.ensemble import RandomForestClassifier\n",
    "from sklearn.svm import LinearSVC\n",
    "from sklearn.svm import SVC\n",
    "from sklearn.linear_model import SGDClassifier\n",
    "from sklearn.neighbors import KNeighborsClassifier\n",
    "from sklearn.metrics import accuracy_score"
   ]
  },
  {
   "cell_type": "code",
   "execution_count": 160,
   "metadata": {
    "collapsed": true
   },
   "outputs": [],
   "source": [
    "def test_clf (X_train, y_train, X_test, y_test, clf, name) :\n",
    "    clf.fit(X_train, y_train)\n",
    "    y_pred = clf.predict(X_test)\n",
    "    acc = accuracy_score(y_test, y_pred)\n",
    "    print name, \"accuracy: \",acc"
   ]
  },
  {
   "cell_type": "code",
   "execution_count": 187,
   "metadata": {
    "collapsed": true
   },
   "outputs": [],
   "source": [
    "def test_all (X_train, y_train, X_tests, y_tests, clfs, names) :\n",
    "    for c in xrange(len(clfs)):\n",
    "        for i in xrange(np.shape(X_tests)[0]) :\n",
    "            test_clf (X_train, y_train, X_tests[i], y_tests[i], clfs[c], (names[c]+\" test \"+str(i+1)))"
   ]
  },
  {
   "cell_type": "code",
   "execution_count": 189,
   "metadata": {
    "collapsed": false,
    "scrolled": true
   },
   "outputs": [
    {
     "name": "stdout",
     "output_type": "stream",
     "text": [
      "gradient boosting test 1 accuracy:  0.842217484009\n",
      "gradient boosting test 2 accuracy:  0.649253731343\n",
      "random forest test 1 accuracy:  0.818763326226\n",
      "random forest test 2 accuracy:  0.638592750533\n",
      "stochastic gradient descent test 1 accuracy:  0.585287846482\n",
      "stochastic gradient descent test 2 accuracy:  0.644989339019\n",
      "linearSVM test 1 accuracy:  0.634328358209\n",
      "linearSVM test 2 accuracy:  0.574626865672\n",
      "SVM test 1 accuracy:  0.721748400853\n",
      "SVM test 2 accuracy:  0.56289978678\n",
      "deep belief net test 1 accuracy:  0.58315565032\n",
      "deep belief net test 2 accuracy:  0.553304904051\n"
     ]
    }
   ],
   "source": [
    "test_all (X_train, y_train, [X_test, X_test2], [y_test, y_test2], \n",
    "          [gbc, RandomForestClassifier(), SGDClassifier(), LinearSVC(), SVC(1), \n",
    "           DBN([X_train.shape[1], 30, 2],learn_rates=0.3,learn_rate_decays=0.9,epochs=15)],\n",
    "         ['gradient boosting', 'random forest', 'stochastic gradient descent', 'linearSVM', 'SVM', 'deep belief net'])"
   ]
  },
  {
   "cell_type": "code",
   "execution_count": 241,
   "metadata": {
    "collapsed": false
   },
   "outputs": [],
   "source": [
    "rfc = RandomForestClassifier(n_estimators=15, max_leaf_nodes=10)\n",
    "rfc.fit(X_train, y_train);"
   ]
  },
  {
   "cell_type": "code",
   "execution_count": 242,
   "metadata": {
    "collapsed": false,
    "scrolled": false
   },
   "outputs": [
    {
     "name": "stdout",
     "output_type": "stream",
     "text": [
      "Random forest classifier\n"
     ]
    },
    {
     "data": {
      "image/png": "[encoded data removed]",
      "text/plain": [
       "<matplotlib.figure.Figure at 0x156c6b10>"
      ]
     },
     "metadata": {},
     "output_type": "display_data"
    }
   ],
   "source": [
    "print 'Random forest classifier'\n",
    "draw_roc(X_test, y_test, X_test2, y_test2, 'test1', 'test2', rfc)"
   ]
  },
  {
   "cell_type": "code",
   "execution_count": 232,
   "metadata": {
    "collapsed": false
   },
   "outputs": [
    {
     "name": "stdout",
     "output_type": "stream",
     "text": [
      "Random forest classifier\n"
     ]
    },
    {
     "data": {
      "image/png": "[encoded data removed]",
      "text/plain": [
       "<matplotlib.figure.Figure at 0x16f56670>"
      ]
     },
     "metadata": {},
     "output_type": "display_data"
    }
   ],
   "source": [
    "print 'Random forest classifier'\n",
    "draw_roc(X_train, y_train, X_train2, y_train2, 'train1', 'train2', rfc)"
   ]
  },
  {
   "cell_type": "code",
   "execution_count": 159,
   "metadata": {
    "collapsed": false
   },
   "outputs": [
    {
     "name": "stdout",
     "output_type": "stream",
     "text": [
      "gradient boosting classifier  accuracy:  0.840085287846\n"
     ]
    }
   ],
   "source": [
    "test_clf (X_train, y_train, X_test, y_test, gbc, \"gradient boosting classifier\")"
   ]
  },
  {
   "cell_type": "code",
   "execution_count": 162,
   "metadata": {
    "collapsed": false
   },
   "outputs": [
    {
     "name": "stdout",
     "output_type": "stream",
     "text": [
      "gradient boosting classifier test2 accuracy:  0.6460554371\n"
     ]
    }
   ],
   "source": [
    "test_clf (X_train, y_train, X_test2, y_test2, gbc, \"gradient boosting classifier test2\")"
   ]
  },
  {
   "cell_type": "code",
   "execution_count": 165,
   "metadata": {
    "collapsed": false
   },
   "outputs": [
    {
     "name": "stdout",
     "output_type": "stream",
     "text": [
      "random forest classifier accuracy:  0.80170575693\n"
     ]
    }
   ],
   "source": [
    "test_clf (X_train, y_train, X_test, y_test, RandomForestClassifier(), \"random forest classifier\")"
   ]
  },
  {
   "cell_type": "code",
   "execution_count": 164,
   "metadata": {
    "collapsed": false
   },
   "outputs": [
    {
     "name": "stdout",
     "output_type": "stream",
     "text": [
      "random forest classifier test2 accuracy:  0.663113006397\n"
     ]
    }
   ],
   "source": [
    "test_clf (X_train, y_train, X_test2, y_test2, RandomForestClassifier(), \"random forest classifier test2\")"
   ]
  },
  {
   "cell_type": "code",
   "execution_count": 166,
   "metadata": {
    "collapsed": false
   },
   "outputs": [
    {
     "name": "stdout",
     "output_type": "stream",
     "text": [
      "stochastic gradient descent classifier accuracy:  0.585287846482\n"
     ]
    }
   ],
   "source": [
    "test_clf (X_train, y_train, X_test, y_test, SGDClassifier(), \"stochastic gradient descent classifier\")"
   ]
  },
  {
   "cell_type": "code",
   "execution_count": 168,
   "metadata": {
    "collapsed": false
   },
   "outputs": [
    {
     "name": "stdout",
     "output_type": "stream",
     "text": [
      "stochastic gradient descent classifier test2 accuracy:  0.644989339019\n"
     ]
    }
   ],
   "source": [
    "test_clf (X_train, y_train, X_test2, y_test2, SGDClassifier(), \"stochastic gradient descent classifier test2\")"
   ]
  },
  {
   "cell_type": "code",
   "execution_count": 128,
   "metadata": {
    "collapsed": false
   },
   "outputs": [
    {
     "name": "stdout",
     "output_type": "stream",
     "text": [
      "Linear SVM accuracy:  0.539445628998\n"
     ]
    }
   ],
   "source": [
    "clf_svm = LinearSVC()\n",
    "clf_svm.fit(X_train, y_train)\n",
    "y_pred_svm = clf_svm.predict(X_test)\n",
    "acc_svm = accuracy_score(y_test, y_pred_svm)\n",
    "print \"Linear SVM accuracy: \",acc_svm"
   ]
  },
  {
   "cell_type": "code",
   "execution_count": 188,
   "metadata": {
    "collapsed": false,
    "scrolled": true
   },
   "outputs": [
    {
     "name": "stdout",
     "output_type": "stream",
     "text": [
      "SVM accuracy:  0.56289978678    1.0\n"
     ]
    }
   ],
   "source": [
    "space = np.logspace(np.log10(0.00001), np.log10(100), 15)\n",
    "best_acc = 0.\n",
    "bestC = 0.\n",
    "for C in space:\n",
    "    clf_svm = SVC(C)\n",
    "    clf_svm.fit(X_train, y_train)\n",
    "    y_pred_svm = clf_svm.predict(X_test2)\n",
    "    acc_svm = accuracy_score(y_test2, y_pred_svm)\n",
    "    if acc_svm > best_acc:\n",
    "        best_acc = acc_svm\n",
    "        bestC = C\n",
    "print \"SVM accuracy: \",best_acc, \"  \", bestC"
   ]
  },
  {
   "cell_type": "code",
   "execution_count": 140,
   "metadata": {
    "collapsed": false,
    "scrolled": true
   },
   "outputs": [
    {
     "name": "stdout",
     "output_type": "stream",
     "text": [
      "nearest neighbors accuracy:  0.775053304904\n"
     ]
    }
   ],
   "source": [
    "clf_knn = KNeighborsClassifier()\n",
    "clf_knn.fit(X_train, y_train)\n",
    "y_pred_knn = clf_knn.predict(X_test)\n",
    "acc_knn = accuracy_score(y_test, y_pred_knn)\n",
    "print \"nearest neighbors accuracy: \",acc_knn"
   ]
  },
  {
   "cell_type": "code",
   "execution_count": 154,
   "metadata": {
    "collapsed": false
   },
   "outputs": [
    {
     "name": "stdout",
     "output_type": "stream",
     "text": [
      "dbn accuracy:  0.586353944563\n"
     ]
    }
   ],
   "source": [
    "clf_nn = DBN([X_train.shape[1], 30, 2],learn_rates=0.3,learn_rate_decays=0.9,epochs=15)\n",
    "clf_nn.fit(X_train, y_train)\n",
    "acc_nn = clf_nn.score(X_test,y_test)\n",
    "print \"dbn accuracy: \",acc_nn"
   ]
  },
  {
   "cell_type": "code",
   "execution_count": null,
   "metadata": {
    "collapsed": true
   },
   "outputs": [],
   "source": []
  },
  {
   "cell_type": "code",
   "execution_count": 249,
   "metadata": {
    "collapsed": false
   },
   "outputs": [
    {
     "ename": "ImportError",
     "evalue": "No module named lasagne",
     "output_type": "error",
     "traceback": [
      "\u001b[1;31m---------------------------------------------------------------------------\u001b[0m",
      "\u001b[1;31mImportError\u001b[0m                               Traceback (most recent call last)",
      "\u001b[1;32m<ipython-input-249-a04ad991d973>\u001b[0m in \u001b[0;36m<module>\u001b[1;34m()\u001b[0m\n\u001b[1;32m----> 1\u001b[1;33m \u001b[1;32mimport\u001b[0m \u001b[0mlasagne\u001b[0m\u001b[1;33m\u001b[0m\u001b[0m\n\u001b[0m\u001b[0;32m      2\u001b[0m \u001b[1;32mimport\u001b[0m \u001b[0mtheano\u001b[0m\u001b[1;33m\u001b[0m\u001b[0m\n\u001b[0;32m      3\u001b[0m \u001b[1;32mimport\u001b[0m \u001b[0mtheano\u001b[0m\u001b[1;33m.\u001b[0m\u001b[0mtensor\u001b[0m \u001b[1;32mas\u001b[0m \u001b[0mT\u001b[0m\u001b[1;33m\u001b[0m\u001b[0m\n",
      "\u001b[1;31mImportError\u001b[0m: No module named lasagne"
     ]
    }
   ],
   "source": [
    "import lasagne\n",
    "import theano\n",
    "import theano.tensor as T"
   ]
  },
  {
   "cell_type": "code",
   "execution_count": null,
   "metadata": {
    "collapsed": true
   },
   "outputs": [],
   "source": []
  }
 ],
 "metadata": {
  "kernelspec": {
   "display_name": "Python 2",
   "language": "python",
   "name": "python2"
  },
  "language_info": {
   "codemirror_mode": {
    "name": "ipython",
    "version": 2
   },
   "file_extension": ".py",
   "mimetype": "text/x-python",
   "name": "python",
   "nbconvert_exporter": "python",
   "pygments_lexer": "ipython2",
   "version": "2.7.9"
  }
 },
 "nbformat": 4,
 "nbformat_minor": 0
}
