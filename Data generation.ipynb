{
 "cells": [
  {
   "cell_type": "markdown",
   "metadata": {},
   "source": [
    "В этой тетрадке представлен код для генерации данных для летней практики Lambda по data popularity."
   ]
  },
  {
   "cell_type": "code",
   "execution_count": 1,
   "metadata": {
    "collapsed": true
   },
   "outputs": [],
   "source": [
    "%matplotlib inline\n",
    "import pandas as pd\n",
    "import numpy as np\n",
    "import matplotlib.pyplot as plt"
   ]
  },
  {
   "cell_type": "markdown",
   "metadata": {},
   "source": [
    "Первоначальные данные"
   ]
  },
  {
   "cell_type": "code",
   "execution_count": 4,
   "metadata": {
    "collapsed": false
   },
   "outputs": [
    {
     "data": {
      "text/html": [
       "<div style=\"max-height:1000px;max-width:1500px;overflow:auto;\">\n",
       "<table border=\"1\" class=\"dataframe\">\n",
       "  <thead>\n",
       "    <tr style=\"text-align: right;\">\n",
       "      <th></th>\n",
       "      <th>Name</th>\n",
       "      <th>Configuration</th>\n",
       "      <th>ProcessingPass</th>\n",
       "      <th>FileType</th>\n",
       "      <th>Type</th>\n",
       "      <th>Creation-week</th>\n",
       "      <th>NbLFN</th>\n",
       "      <th>LFNSize</th>\n",
       "      <th>NbDisk</th>\n",
       "      <th>DiskSize</th>\n",
       "      <th>...</th>\n",
       "      <th>95</th>\n",
       "      <th>96</th>\n",
       "      <th>97</th>\n",
       "      <th>98</th>\n",
       "      <th>99</th>\n",
       "      <th>100</th>\n",
       "      <th>101</th>\n",
       "      <th>102</th>\n",
       "      <th>103</th>\n",
       "      <th>104</th>\n",
       "    </tr>\n",
       "  </thead>\n",
       "  <tbody>\n",
       "    <tr>\n",
       "      <th>0</th>\n",
       "      <td> /LHCb/Collision10/Beam3500GeV-VeloClosed-MagDo...</td>\n",
       "      <td> /LHCb/Collision10</td>\n",
       "      <td> /RealData/Reco08-MINBIAS-FIRST-14-NB/Stripping12d</td>\n",
       "      <td>    MINIBIAS.DST</td>\n",
       "      <td> 1</td>\n",
       "      <td> 104591</td>\n",
       "      <td>  67</td>\n",
       "      <td> 0.317900</td>\n",
       "      <td> 134</td>\n",
       "      <td> 0.635799</td>\n",
       "      <td>...</td>\n",
       "      <td> 12687</td>\n",
       "      <td> 12687</td>\n",
       "      <td> 12687</td>\n",
       "      <td> 12687</td>\n",
       "      <td> 12687</td>\n",
       "      <td> 12687</td>\n",
       "      <td> 12687</td>\n",
       "      <td> 12687</td>\n",
       "      <td> 12687</td>\n",
       "      <td> 12687</td>\n",
       "    </tr>\n",
       "    <tr>\n",
       "      <th>1</th>\n",
       "      <td> /LHCb/Collision10/Beam3500GeV-VeloClosed-MagDo...</td>\n",
       "      <td> /LHCb/Collision10</td>\n",
       "      <td>                      /RealData/Reco08/Stripping14</td>\n",
       "      <td>     BHADRON.DST</td>\n",
       "      <td> 1</td>\n",
       "      <td> 104607</td>\n",
       "      <td> 227</td>\n",
       "      <td> 0.649204</td>\n",
       "      <td> 980</td>\n",
       "      <td> 2.819260</td>\n",
       "      <td>...</td>\n",
       "      <td>  1631</td>\n",
       "      <td>  1631</td>\n",
       "      <td>  1631</td>\n",
       "      <td>  1631</td>\n",
       "      <td>  1631</td>\n",
       "      <td>  1631</td>\n",
       "      <td>  1631</td>\n",
       "      <td>  1631</td>\n",
       "      <td>  1631</td>\n",
       "      <td>  1631</td>\n",
       "    </tr>\n",
       "    <tr>\n",
       "      <th>2</th>\n",
       "      <td> /LHCb/Collision10/Beam3500GeV-VeloClosed-MagDo...</td>\n",
       "      <td> /LHCb/Collision10</td>\n",
       "      <td>                      /RealData/Reco08/Stripping14</td>\n",
       "      <td> CALIBRATION.DST</td>\n",
       "      <td> 1</td>\n",
       "      <td> 104607</td>\n",
       "      <td> 355</td>\n",
       "      <td> 1.370105</td>\n",
       "      <td> 355</td>\n",
       "      <td> 1.370105</td>\n",
       "      <td>...</td>\n",
       "      <td>     0</td>\n",
       "      <td>     0</td>\n",
       "      <td>     0</td>\n",
       "      <td>   474</td>\n",
       "      <td>   708</td>\n",
       "      <td>   708</td>\n",
       "      <td>   708</td>\n",
       "      <td>   708</td>\n",
       "      <td>   708</td>\n",
       "      <td>   708</td>\n",
       "    </tr>\n",
       "  </tbody>\n",
       "</table>\n",
       "<p>3 rows × 124 columns</p>\n",
       "</div>"
      ],
      "text/plain": [
       "                                                Name      Configuration  \\\n",
       "0  /LHCb/Collision10/Beam3500GeV-VeloClosed-MagDo...  /LHCb/Collision10   \n",
       "1  /LHCb/Collision10/Beam3500GeV-VeloClosed-MagDo...  /LHCb/Collision10   \n",
       "2  /LHCb/Collision10/Beam3500GeV-VeloClosed-MagDo...  /LHCb/Collision10   \n",
       "\n",
       "                                      ProcessingPass         FileType  Type  \\\n",
       "0  /RealData/Reco08-MINBIAS-FIRST-14-NB/Stripping12d     MINIBIAS.DST     1   \n",
       "1                       /RealData/Reco08/Stripping14      BHADRON.DST     1   \n",
       "2                       /RealData/Reco08/Stripping14  CALIBRATION.DST     1   \n",
       "\n",
       "   Creation-week  NbLFN   LFNSize  NbDisk  DiskSize    ...        95     96  \\\n",
       "0         104591     67  0.317900     134  0.635799    ...     12687  12687   \n",
       "1         104607    227  0.649204     980  2.819260    ...      1631   1631   \n",
       "2         104607    355  1.370105     355  1.370105    ...         0      0   \n",
       "\n",
       "      97     98     99    100    101    102    103    104  \n",
       "0  12687  12687  12687  12687  12687  12687  12687  12687  \n",
       "1   1631   1631   1631   1631   1631   1631   1631   1631  \n",
       "2      0    474    708    708    708    708    708    708  \n",
       "\n",
       "[3 rows x 124 columns]"
      ]
     },
     "execution_count": 4,
     "metadata": {},
     "output_type": "execute_result"
    }
   ],
   "source": [
    "lhcb_data = pd.read_csv('../../Data/popularity-728days.csv')\n",
    "lhcb_data.irow(range(0,3))"
   ]
  },
  {
   "cell_type": "markdown",
   "metadata": {},
   "source": [
    "Предобработка данных"
   ]
  },
  {
   "cell_type": "code",
   "execution_count": 5,
   "metadata": {
    "collapsed": false
   },
   "outputs": [
    {
     "data": {
      "text/html": [
       "<div style=\"max-height:1000px;max-width:1500px;overflow:auto;\">\n",
       "<table border=\"1\" class=\"dataframe\">\n",
       "  <thead>\n",
       "    <tr style=\"text-align: right;\">\n",
       "      <th></th>\n",
       "      <th>ID</th>\n",
       "      <th>DiskSize</th>\n",
       "      <th>Creation</th>\n",
       "      <th>First</th>\n",
       "      <th>StartTime</th>\n",
       "      <th>Now</th>\n",
       "      <th>1</th>\n",
       "      <th>2</th>\n",
       "      <th>3</th>\n",
       "      <th>4</th>\n",
       "      <th>...</th>\n",
       "      <th>95</th>\n",
       "      <th>96</th>\n",
       "      <th>97</th>\n",
       "      <th>98</th>\n",
       "      <th>99</th>\n",
       "      <th>100</th>\n",
       "      <th>101</th>\n",
       "      <th>102</th>\n",
       "      <th>103</th>\n",
       "      <th>104</th>\n",
       "    </tr>\n",
       "  </thead>\n",
       "  <tbody>\n",
       "    <tr>\n",
       "      <th>0</th>\n",
       "      <td> /LHCb/Collision10/Beam3500GeV-VeloClosed-MagDo...</td>\n",
       "      <td> 0.635799</td>\n",
       "      <td> 104591</td>\n",
       "      <td> 104670</td>\n",
       "      <td> 104660</td>\n",
       "      <td> 104764</td>\n",
       "      <td> 0</td>\n",
       "      <td> 0</td>\n",
       "      <td> 0</td>\n",
       "      <td> 0</td>\n",
       "      <td>...</td>\n",
       "      <td> 0</td>\n",
       "      <td> 0</td>\n",
       "      <td> 0</td>\n",
       "      <td> 0</td>\n",
       "      <td> 0</td>\n",
       "      <td> 0</td>\n",
       "      <td> 0</td>\n",
       "      <td> 0</td>\n",
       "      <td> 0</td>\n",
       "      <td> 134</td>\n",
       "    </tr>\n",
       "    <tr>\n",
       "      <th>1</th>\n",
       "      <td> /LHCb/Collision10/Beam3500GeV-VeloClosed-MagDo...</td>\n",
       "      <td> 2.819260</td>\n",
       "      <td> 104607</td>\n",
       "      <td> 104676</td>\n",
       "      <td> 104660</td>\n",
       "      <td> 104764</td>\n",
       "      <td> 0</td>\n",
       "      <td> 0</td>\n",
       "      <td> 0</td>\n",
       "      <td> 0</td>\n",
       "      <td>...</td>\n",
       "      <td> 0</td>\n",
       "      <td> 0</td>\n",
       "      <td> 0</td>\n",
       "      <td> 0</td>\n",
       "      <td> 0</td>\n",
       "      <td> 0</td>\n",
       "      <td> 0</td>\n",
       "      <td> 0</td>\n",
       "      <td> 0</td>\n",
       "      <td>   0</td>\n",
       "    </tr>\n",
       "    <tr>\n",
       "      <th>2</th>\n",
       "      <td> /LHCb/Collision10/Beam3500GeV-VeloClosed-MagDo...</td>\n",
       "      <td> 1.370105</td>\n",
       "      <td> 104607</td>\n",
       "      <td> 104666</td>\n",
       "      <td> 104660</td>\n",
       "      <td> 104764</td>\n",
       "      <td> 0</td>\n",
       "      <td> 0</td>\n",
       "      <td> 0</td>\n",
       "      <td> 0</td>\n",
       "      <td>...</td>\n",
       "      <td> 0</td>\n",
       "      <td> 0</td>\n",
       "      <td> 0</td>\n",
       "      <td> 0</td>\n",
       "      <td> 0</td>\n",
       "      <td> 0</td>\n",
       "      <td> 0</td>\n",
       "      <td> 0</td>\n",
       "      <td> 0</td>\n",
       "      <td>   0</td>\n",
       "    </tr>\n",
       "  </tbody>\n",
       "</table>\n",
       "<p>3 rows × 110 columns</p>\n",
       "</div>"
      ],
      "text/plain": [
       "                                                  ID  DiskSize Creation  \\\n",
       "0  /LHCb/Collision10/Beam3500GeV-VeloClosed-MagDo...  0.635799   104591   \n",
       "1  /LHCb/Collision10/Beam3500GeV-VeloClosed-MagDo...  2.819260   104607   \n",
       "2  /LHCb/Collision10/Beam3500GeV-VeloClosed-MagDo...  1.370105   104607   \n",
       "\n",
       "    First StartTime     Now  1  2  3  4 ...  95  96  97  98  99  100  101  \\\n",
       "0  104670    104660  104764  0  0  0  0 ...   0   0   0   0   0    0    0   \n",
       "1  104676    104660  104764  0  0  0  0 ...   0   0   0   0   0    0    0   \n",
       "2  104666    104660  104764  0  0  0  0 ...   0   0   0   0   0    0    0   \n",
       "\n",
       "   102  103  104  \n",
       "0    0    0  134  \n",
       "1    0    0    0  \n",
       "2    0    0    0  \n",
       "\n",
       "[3 rows x 110 columns]"
      ]
     },
     "execution_count": 5,
     "metadata": {},
     "output_type": "execute_result"
    }
   ],
   "source": [
    "from datapop.LHCb import DataPreprocessor\n",
    "data1 = DataPreprocessor(data=lhcb_data).get_preprocessed_data()\n",
    "data1.irow(range(0,3))"
   ]
  },
  {
   "cell_type": "markdown",
   "metadata": {},
   "source": [
    "Сохраняем данные"
   ]
  },
  {
   "cell_type": "code",
   "execution_count": 6,
   "metadata": {
    "collapsed": true
   },
   "outputs": [],
   "source": [
    "#data1.to_csv('data_full_1_104.csv')"
   ]
  },
  {
   "cell_type": "markdown",
   "metadata": {},
   "source": [
    "Преселекция предобработанных данных"
   ]
  },
  {
   "cell_type": "code",
   "execution_count": 7,
   "metadata": {
    "collapsed": true
   },
   "outputs": [],
   "source": [
    "data=data1\n",
    "x11 = data[[str(i) for i in range(21, 53)]]\n",
    "selected_data = x11[x11.sum(axis=1)!=0]\n",
    "indexes = selected_data.index"
   ]
  },
  {
   "cell_type": "markdown",
   "metadata": {},
   "source": [
    "Подготовка первого файла данных для задачи"
   ]
  },
  {
   "cell_type": "code",
   "execution_count": 15,
   "metadata": {
    "collapsed": false
   },
   "outputs": [],
   "source": [
    "ids = data['ID'][x11.sum(axis=1)!=0]\n",
    "X_train = data[[str(i) for i in range(1, 53)]][x11.sum(axis=1)!=0]\n",
    "y_train = (((data[[str(i) for i in range(53, 79)]][x11.sum(axis=1)!=0]).sum(axis=1)>0)*1.).astype(np.float)"
   ]
  },
  {
   "cell_type": "code",
   "execution_count": 18,
   "metadata": {
    "collapsed": false
   },
   "outputs": [],
   "source": [
    "data1_53 = pd.DataFrame(columns=['ID']+[str(i) for i in range(1, 53)]+['label'])\n",
    "data1_53['ID'] = ids.values\n",
    "data1_53[[str(i) for i in range(1, 53)]] = X_train.values\n",
    "data1_53['label'] = y_train.values"
   ]
  },
  {
   "cell_type": "code",
   "execution_count": 19,
   "metadata": {
    "collapsed": true
   },
   "outputs": [],
   "source": [
    "#data1_53.to_csv('data1_53.csv')"
   ]
  },
  {
   "cell_type": "markdown",
   "metadata": {},
   "source": [
    "Подготовка второго файла для задачи"
   ]
  },
  {
   "cell_type": "code",
   "execution_count": 20,
   "metadata": {
    "collapsed": true
   },
   "outputs": [],
   "source": [
    "ids = data['ID'][x11.sum(axis=1)!=0]\n",
    "X_train = data[[str(i) for i in range(2, 54)]][x11.sum(axis=1)!=0]\n",
    "y_train = (((data[[str(i) for i in range(54, 80)]][x11.sum(axis=1)!=0]).sum(axis=1)>0)*1.).astype(np.float)"
   ]
  },
  {
   "cell_type": "code",
   "execution_count": 21,
   "metadata": {
    "collapsed": true
   },
   "outputs": [],
   "source": [
    "data2_54 = pd.DataFrame(columns=['ID']+[str(i) for i in range(2, 54)]+['label'])\n",
    "data2_54['ID'] = ids.values\n",
    "data2_54[[str(i) for i in range(2, 54)]] = X_train.values\n",
    "data2_54['label'] = y_train.values"
   ]
  },
  {
   "cell_type": "code",
   "execution_count": 23,
   "metadata": {
    "collapsed": false
   },
   "outputs": [],
   "source": [
    "#data2_54.to_csv('data2_54.csv')"
   ]
  },
  {
   "cell_type": "code",
   "execution_count": null,
   "metadata": {
    "collapsed": true
   },
   "outputs": [],
   "source": []
  }
 ],
 "metadata": {
  "kernelspec": {
   "display_name": "Python 2",
   "language": "python",
   "name": "python2"
  },
  "language_info": {
   "codemirror_mode": {
    "name": "ipython",
    "version": 2
   },
   "file_extension": ".py",
   "mimetype": "text/x-python",
   "name": "python",
   "nbconvert_exporter": "python",
   "pygments_lexer": "ipython2",
   "version": "2.7.10"
  }
 },
 "nbformat": 4,
 "nbformat_minor": 0
}
